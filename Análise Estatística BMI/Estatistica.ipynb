{
  "cells": [
    {
      "cell_type": "markdown",
      "metadata": {
        "id": "hTS3SNdbm7op"
      },
      "source": [
        "##### Gera uma lista de números aleatórios, calcula a moda dessa lista, e também determina a moda de duas outras listas predefinidas, identificando se a moda é unimodal, bimodal, trimodal ou se a lista é amodal (sem moda)."
      ]
    },
    {
      "cell_type": "code",
      "execution_count": null,
      "metadata": {
        "colab": {
          "base_uri": "https://localhost:8080/"
        },
        "id": "x26_j_isNvo2",
        "outputId": "b2ce7c5a-d117-45ef-a258-bb7212c172b1"
      },
      "outputs": [
        {
          "name": "stdout",
          "output_type": "stream",
          "text": [
            "[8, 7, 4, 2, 5, 4, 7, 3, 4, 5, 9, 5, 2, 7, 6, 2, 9, 9, 8, 9]\n",
            "3\n",
            "A moda é 9\n"
          ]
        }
      ],
      "source": [
        "import random\n",
        "\n",
        "random.seed(0)\n",
        "\n",
        "l = random.choices(range(10), k = 20)\n",
        "\n",
        "print(l)\n",
        "print(l.count(2))\n",
        "freq = [ (numero, l.count(numero)) for numero in set(l) ]\n",
        "freq.sort(key = lambda par: par[1])\n",
        "freq\n",
        "print(\"A moda é\", freq[-1][0])"
      ]
    },
    {
      "cell_type": "code",
      "execution_count": null,
      "metadata": {
        "colab": {
          "base_uri": "https://localhost:8080/"
        },
        "id": "-wFEAdUpPKAW",
        "outputId": "21c0c3b9-2a4b-4bd5-9ec0-97929c90c679"
      },
      "outputs": [
        {
          "data": {
            "text/plain": [
              "[(3, 1), (6, 1), (8, 2), (2, 3), (4, 3), (5, 3), (7, 3), (9, 4)]"
            ]
          },
          "execution_count": 2,
          "metadata": {},
          "output_type": "execute_result"
        }
      ],
      "source": [
        "freq"
      ]
    },
    {
      "cell_type": "code",
      "execution_count": null,
      "metadata": {
        "id": "ORzJj4UeOt9w"
      },
      "outputs": [],
      "source": [
        "l_trimodal = [8, 5, 9, 6, 5, 4, 3, 5, 2, 1, 1, 6, 6, 4, 0, 7, 8, 9, 8]\n",
        "l_amodal = [9,5,2,7,12,8,4,0,3]"
      ]
    },
    {
      "cell_type": "markdown",
      "metadata": {
        "id": "gfgnvQr1igC_"
      },
      "source": [
        "tranformando em uma lista ordenda com o total de vezes que se repetem"
      ]
    },
    {
      "cell_type": "code",
      "execution_count": null,
      "metadata": {
        "colab": {
          "base_uri": "https://localhost:8080/"
        },
        "id": "lhCmBufaRc1w",
        "outputId": "7d5db196-071c-4f40-97c5-a042e3cdc010"
      },
      "outputs": [
        {
          "data": {
            "text/plain": [
              "[(0, 1),\n",
              " (2, 1),\n",
              " (3, 1),\n",
              " (7, 1),\n",
              " (1, 2),\n",
              " (4, 2),\n",
              " (9, 2),\n",
              " (5, 3),\n",
              " (6, 3),\n",
              " (8, 3)]"
            ]
          },
          "execution_count": 4,
          "metadata": {},
          "output_type": "execute_result"
        }
      ],
      "source": [
        "# mudar valor do x para pesquisar em outra lista\n",
        "x = l_trimodal\n",
        "# x = l_amodal\n",
        "\n",
        "frequencia = [ (numero, x.count(numero)) for numero in set(x) ]\n",
        "frequencia.sort(key = lambda par: par[1])\n",
        "frequencia"
      ]
    },
    {
      "cell_type": "markdown",
      "metadata": {
        "id": "NRyBKISfiz0J"
      },
      "source": [
        "percorrendo a lista, vendo quais mais se repetem e adicionando em outra lista chamada moda"
      ]
    },
    {
      "cell_type": "code",
      "execution_count": null,
      "metadata": {
        "colab": {
          "base_uri": "https://localhost:8080/"
        },
        "id": "28vM59ryfWa9",
        "outputId": "676fdb8c-8537-4830-8542-bbcc0dbddfc3"
      },
      "outputs": [
        {
          "name": "stdout",
          "output_type": "stream",
          "text": [
            "A moda é trimodal: [5, 6, 8]\n"
          ]
        }
      ],
      "source": [
        "moda = []\n",
        "max_cont = 0\n",
        "for valor, contagem in frequencia:\n",
        "    if contagem > max_cont:\n",
        "        moda = [valor]\n",
        "        max_cont = contagem\n",
        "    elif contagem == max_cont:\n",
        "        moda.append(valor)\n",
        "\n",
        "if max_cont == 1:\n",
        "  print(\"A moda é amodal:\", x)\n",
        "elif len(moda) == 1:\n",
        "  print(\"A moda é: \", moda)\n",
        "elif len(moda) == 2:\n",
        "  print(\"A moda é bimodal:\", moda)\n",
        "else:\n",
        "  print(\"A moda é trimodal:\", moda)"
      ]
    },
    {
      "cell_type": "markdown",
      "metadata": {
        "id": "i0QkH0S9nM2s"
      },
      "source": [
        "##### Lê um conjunto de dados de saúde, divide a coluna ‘bmi’ em 10 intervalos, calcula a frequência de cada intervalo, identifica o intervalo com a maior frequência (moda), e calcula e imprime a média desse intervalo como a moda."
      ]
    },
    {
      "cell_type": "code",
      "execution_count": null,
      "metadata": {
        "id": "KKfyEsI-PXOR"
      },
      "outputs": [],
      "source": [
        "import pandas as pd\n",
        "\n",
        "df = pd.read_csv(\"healthcare-dataset-stroke-data.csv\")\n",
        "classes = pd.cut(df.bmi, bins = 10)\n"
      ]
    },
    {
      "cell_type": "code",
      "execution_count": null,
      "metadata": {
        "colab": {
          "base_uri": "https://localhost:8080/"
        },
        "id": "dSfCyBDhpMSz",
        "outputId": "a40b23a0-5e08-4183-dda1-c38540ec4f11"
      },
      "outputs": [
        {
          "name": "stdout",
          "output_type": "stream",
          "text": [
            "A moda está no intervalo: (19.03, 27.76)\n",
            "A moda é: 23.395000000000003\n"
          ]
        }
      ],
      "source": [
        "frequencias = classes.value_counts()\n",
        "moda_intervalo = frequencias.idxmax()\n",
        "moda = (moda_intervalo.left, moda_intervalo.right)\n",
        "\n",
        "print(\"A moda está no intervalo:\", moda)\n",
        "r = moda_intervalo.right\n",
        "l = moda_intervalo.left\n",
        "modam = (r +l )/2\n",
        "print(\"A moda é:\", modam)"
      ]
    },
    {
      "cell_type": "markdown",
      "metadata": {
        "id": "HT_9pltQqAVu"
      },
      "source": [
        "##### Ordena as frequências dos intervalos de ‘bmi’ em ordem crescente, localiza o intervalo de moda e os intervalos imediatamente anterior e posterior a ele, e então calcula a moda usando a fórmula de King, que é uma técnica estatística para estimar a moda em dados agrupados.\n",
        "\n"
      ]
    },
    {
      "cell_type": "markdown",
      "metadata": {
        "id": "b0jRPAl-vSL2"
      },
      "source": [
        "king"
      ]
    },
    {
      "cell_type": "code",
      "execution_count": null,
      "metadata": {
        "colab": {
          "base_uri": "https://localhost:8080/"
        },
        "id": "9U0odVGyvVHu",
        "outputId": "e86cf434-68f5-4520-fe55-422a8d3a7b9c"
      },
      "outputs": [
        {
          "name": "stdout",
          "output_type": "stream",
          "text": [
            "A moda pela fórmula de King é:  26.143770270270274\n"
          ]
        }
      ],
      "source": [
        "frequencias_ordenadas = frequencias.sort_index()\n",
        "indice_moda = frequencias_ordenadas.index.get_loc(moda_intervalo)\n",
        "indice_anterior = indice_moda - 1\n",
        "faixa_anterior = frequencias_ordenadas.iloc[indice_anterior]\n",
        "indice_posterior = indice_moda +1\n",
        "faixa_posterior = frequencias_ordenadas.iloc[indice_posterior]\n",
        "moda_king = l + ((faixa_posterior / (faixa_posterior + faixa_anterior))*(r-l))\n",
        "print(\"A moda pela fórmula de King é: \", moda_king)"
      ]
    },
    {
      "cell_type": "markdown",
      "metadata": {},
      "source": [
        "##### Calcula a moda usando a fórmula de Czuber, a fórmula de Czuber leva em consideração a frequência da moda e as frequências dos intervalos imediatamente anterior e posterior a ela."
      ]
    },
    {
      "cell_type": "markdown",
      "metadata": {
        "id": "1bk59Wmkv9bU"
      },
      "source": [
        "Czuber\n"
      ]
    },
    {
      "cell_type": "code",
      "execution_count": null,
      "metadata": {
        "colab": {
          "base_uri": "https://localhost:8080/"
        },
        "id": "9nbslw5zv_ZG",
        "outputId": "e5366480-8392-4c74-d8b5-5de37a947da4"
      },
      "outputs": [
        {
          "name": "stdout",
          "output_type": "stream",
          "text": [
            "A moda pela fórmula de czuber é:  26.96775761124122\n"
          ]
        }
      ],
      "source": [
        "valor_moda = frequencias_ordenadas.iloc[indice_moda]\n",
        "moda_czuber = l +(( (valor_moda - faixa_anterior) / ( (valor_moda - faixa_anterior) + (valor_moda - faixa_posterior) ))*(r-l))\n",
        "\n",
        "print(\"A moda pela fórmula de czuber é: \", moda_czuber)"
      ]
    },
    {
      "cell_type": "markdown",
      "metadata": {
        "id": "YZG2fdQTXx30"
      },
      "source": [
        "##### Calcula a moda usando a fórmula de Pearson, que é uma técnica estatística para estimar a moda com base na média e na mediana de um conjunto de dados. \n"
      ]
    },
    {
      "cell_type": "markdown",
      "metadata": {
        "id": "Sy_kfmZf4rXc"
      },
      "source": [
        "Pearson"
      ]
    },
    {
      "cell_type": "code",
      "execution_count": null,
      "metadata": {
        "colab": {
          "base_uri": "https://localhost:8080/"
        },
        "id": "xUBUDzpd4pSH",
        "outputId": "717781de-9c3e-4af1-ff2c-c058e832105b"
      },
      "outputs": [
        {
          "name": "stdout",
          "output_type": "stream",
          "text": [
            "A moda pela fórmula de  é:  26.51352617641068\n"
          ]
        }
      ],
      "source": [
        "mediana = df.bmi.median()\n",
        "media = df.bmi.mean()\n",
        "moda_pearson = mediana*3 - media*2\n",
        "\n",
        "print(\"A moda pela fórmula de  é: \", moda_pearson)"
      ]
    },
    {
      "cell_type": "markdown",
      "metadata": {
        "id": "_eMANSI9X3pn"
      },
      "source": [
        "##### Calcula e imprime os coeficientes de assimetria de Pearson e Bowley para a coluna ‘bmi’ de um DataFrame."
      ]
    },
    {
      "cell_type": "code",
      "execution_count": null,
      "metadata": {
        "colab": {
          "base_uri": "https://localhost:8080/"
        },
        "id": "GKsbwM8D37rq",
        "outputId": "1b3d0abb-4f06-4a17-8e16-a16877498be8"
      },
      "outputs": [
        {
          "name": "stdout",
          "output_type": "stream",
          "text": [
            "Coeficiente de Assimetria de Pearson: 0.3029908985100897\n",
            "Coeficiente de Assimetria de Bowley: 0.04166666666666651\n"
          ]
        }
      ],
      "source": [
        "# Pearson\n",
        "media = df['bmi'].mean()\n",
        "mediana = df['bmi'].median()\n",
        "desvio_padrao = df['bmi'].std()\n",
        "coeficiente_pearson = 3 * (media - mediana) / desvio_padrao\n",
        "\n",
        "# Bowley\n",
        "Q1 = df['bmi'].quantile(0.25)\n",
        "Q3 = df['bmi'].quantile(0.75)\n",
        "mediana_bowley = df['bmi'].median()\n",
        "coeficiente_bowley = (Q1 + Q3 - 2 * mediana_bowley) / (Q3 - Q1)\n",
        "\n",
        "print(\"Coeficiente de Assimetria de Pearson:\", coeficiente_pearson)\n",
        "print(\"Coeficiente de Assimetria de Bowley:\", coeficiente_bowley)\n"
      ]
    }
  ],
  "metadata": {
    "colab": {
      "provenance": []
    },
    "kernelspec": {
      "display_name": "Python 3",
      "name": "python3"
    },
    "language_info": {
      "name": "python"
    }
  },
  "nbformat": 4,
  "nbformat_minor": 0
}
